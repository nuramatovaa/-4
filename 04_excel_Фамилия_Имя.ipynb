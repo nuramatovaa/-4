{
 "cells": [
  {
   "cell_type": "markdown",
   "metadata": {},
   "source": [
    "# Работа с Excel"
   ]
  },
  {
   "cell_type": "markdown",
   "metadata": {},
   "source": [
    "Материалы:\n",
    "* Макрушин С.В. Лекция 7: Работа с Excel\n",
    "* https://docs.xlwings.org/en/stable/quickstart.html\n",
    "* https://nbviewer.jupyter.org/github/pybokeh/jupyter_notebooks/blob/master/xlwings/Excel_Formatting.ipynb#search_text\n"
   ]
  },
  {
   "cell_type": "markdown",
   "metadata": {},
   "source": [
    "## Задачи для совместного разбора"
   ]
  },
  {
   "cell_type": "markdown",
   "metadata": {},
   "source": [
    "1. На листе \"Рецептура\" файла `себестоимостьА_в1.xlsx` для области \"Пшеничный хлеб\" рассчитать себестоимость всех видов продукции."
   ]
  },
  {
   "cell_type": "markdown",
   "metadata": {},
   "source": [
    "2. Результаты расчетов 1.1 сохранить в отдельном столбце области \"Пшеничный хлеб\""
   ]
  },
  {
   "cell_type": "markdown",
   "metadata": {},
   "source": [
    "3. Приблизить форматирование столбца, добавленного в задаче 2 к оформлению всей области."
   ]
  },
  {
   "cell_type": "markdown",
   "metadata": {},
   "source": [
    "4. Выполнить 3 с помощью \"протягиваемых\" формул."
   ]
  },
  {
   "cell_type": "markdown",
   "metadata": {},
   "source": [
    "## Лабораторная работа 7.1"
   ]
  },
  {
   "cell_type": "markdown",
   "metadata": {},
   "source": [
    "1. Загрузите данные из файлов `reviews_sample.csv` (__ЛР2__) и `recipes_sample.csv` (__ЛР5__) в виде `pd.DataFrame`. Обратите внимание на корректное считывание столбца(ов) с индексами. Оставьте в таблице с рецептами следующие столбцы: `id`, `name`, `minutes`, `submitted`, `description`, `n_ingredients`"
   ]
  },
  {
   "cell_type": "code",
   "execution_count": 1,
   "metadata": {},
   "outputs": [
    {
     "name": "stdout",
     "output_type": "stream",
     "text": [
      "           user_id  recipe_id        date  rating  \\\n",
      "370476       21752      57993  2003-05-01       5   \n",
      "624300      431813     142201  2007-09-16       5   \n",
      "187037      400708     252013  2008-01-10       4   \n",
      "706134  2001852463     404716  2017-12-11       5   \n",
      "312179       95810     129396  2008-03-14       5   \n",
      "\n",
      "                                                   review  \n",
      "370476  Last week whole sides of frozen salmon fillet ...  \n",
      "624300  So simple and so tasty!  I used a yellow capsi...  \n",
      "187037  Very nice breakfast HH, easy to make and yummy...  \n",
      "706134  These are a favorite for the holidays and so e...  \n",
      "312179  Excellent soup!  The tomato flavor is just gre...  \n",
      "                                             id  minutes   submitted  \\\n",
      "name                                                                   \n",
      "george s at the cove  black bean soup     44123       90  2002-10-25   \n",
      "healthy for them  yogurt popsicles        67664       10  2003-07-26   \n",
      "i can t believe it s spinach              38798       30  2002-08-29   \n",
      "italian  gut busters                      35173       45  2002-07-27   \n",
      "love is in the air  beef fondue   sauces  84797       25  2004-02-23   \n",
      "\n",
      "                                                                                description  \\\n",
      "name                                                                                          \n",
      "george s at the cove  black bean soup     an original recipe created by chef scott meska...   \n",
      "healthy for them  yogurt popsicles        my children and their friends ask for my homem...   \n",
      "i can t believe it s spinach                        these were so go, it surprised even me.   \n",
      "italian  gut busters                      my sister-in-law made these for us at a family...   \n",
      "love is in the air  beef fondue   sauces  i think a fondue is a very romantic casual din...   \n",
      "\n",
      "                                          n_ingredients  \n",
      "name                                                     \n",
      "george s at the cove  black bean soup              18.0  \n",
      "healthy for them  yogurt popsicles                  NaN  \n",
      "i can t believe it s spinach                        8.0  \n",
      "italian  gut busters                                NaN  \n",
      "love is in the air  beef fondue   sauces            NaN  \n"
     ]
    }
   ],
   "source": [
    "import pandas as pd\n",
    "reviews = pd.read_csv('data/reviews_sample.csv', index_col=0)\n",
    "recipes = pd.read_csv('data/recipes_sample.csv', index_col=0, usecols=['id', 'name', 'minutes', 'submitted', 'description', 'n_ingredients'])\n",
    "print(reviews.head())\n",
    "print(recipes.head())"
   ]
  },
  {
   "cell_type": "markdown",
   "metadata": {},
   "source": [
    "2. Случайным образом выберите 5% строк из каждой таблицы и сохраните две таблицы на разные листы в один файл `recipes.xlsx`. Дайте листам названия \"Рецепты\" и \"Отзывы\", соответствующие содержанию таблиц. "
   ]
  },
  {
   "cell_type": "code",
   "execution_count": 2,
   "metadata": {},
   "outputs": [],
   "source": [
    "# Выбираем случайные 5% строк из каждой таблицы\n",
    "reviews_sample = reviews.sample(frac=0.05)\n",
    "recipes_sample = recipes.sample(frac=0.05)\n",
    "\n",
    "# Создаем объект ExcelWriter и записываем каждую таблицу на отдельный лист\n",
    "with pd.ExcelWriter('recipes.xlsx') as writer:\n",
    "    reviews_sample.to_excel(writer, sheet_name='Отзывы')\n",
    "    recipes_sample.to_excel(writer, sheet_name='Рецепты')"
   ]
  },
  {
   "cell_type": "markdown",
   "metadata": {},
   "source": [
    "3. Используя `xlwings`, добавьте на лист `Рецепты` столбец `seconds_assign`, показывающий время выполнения рецепта в секундах. Выполните задание при помощи присваивания массива значений диапазону ячеек."
   ]
  },
  {
   "cell_type": "code",
   "execution_count": 4,
   "metadata": {},
   "outputs": [],
   "source": [
    "# Импортируем необходимые библиотеки\n",
    "import pandas as pd\n",
    "import xlwings as xw\n",
    "\n",
    "# Открываем файл\n",
    "wb = xw.Book('recipes.xlsx')\n",
    "\n",
    "# Получаем лист \"Рецепты\"\n",
    "sheet = wb.sheets['Рецепты']\n",
    "\n",
    "# Загружаем данные в DataFrame\n",
    "recipes = sheet.range('A1').options(pd.DataFrame, header=1, index=False, expand='table').value\n",
    "\n",
    "# Добавляем столбец \"seconds_assign\" к DataFrame\n",
    "recipes['seconds_assign'] = recipes['minutes'] * 60\n",
    "\n",
    "# Присваиваем массив значений диапазону ячеек на листе\n",
    "sheet.range('G1').options(transpose=True).value = recipes['seconds_assign'].values\n",
    "\n",
    "# Сохраняем и закрываем файл\n",
    "wb.save()\n",
    "wb.close()"
   ]
  },
  {
   "cell_type": "markdown",
   "metadata": {},
   "source": [
    "4. Используя `xlwings`, добавьте на лист `Рецепты` столбец `seconds_formula`, показывающий время выполнения рецепта в секундах. Выполните задание при помощи формул Excel."
   ]
  },
  {
   "cell_type": "code",
   "execution_count": 5,
   "metadata": {},
   "outputs": [],
   "source": [
    "# Открываем файл\n",
    "wb = xw.Book('recipes.xlsx')\n",
    "\n",
    "# Получаем лист \"Рецепты\"\n",
    "sheet = wb.sheets['Рецепты']\n",
    "\n",
    "# Добавляем столбец \"seconds_formula\" на лист\n",
    "sheet.range('H1').value = 'seconds_formula'\n",
    "\n",
    "# Вычисляем формулу для каждой ячейки в столбце \"seconds_formula\"\n",
    "last_row = sheet.range('A1').current_region.last_cell.row\n",
    "sheet.range('H2:H{}'.format(last_row)).formula = '=B2*60'\n",
    "\n",
    "# Сохраняем и закрываем файл\n",
    "wb.save()\n",
    "wb.close()"
   ]
  },
  {
   "cell_type": "markdown",
   "metadata": {},
   "source": [
    "5. Сделайте названия всех добавленных столбцов полужирными и выровняйте по центру ячейки."
   ]
  },
  {
   "cell_type": "code",
   "execution_count": 2,
   "metadata": {},
   "outputs": [],
   "source": [
    "# Импортируем необходимые библиотеки\n",
    "import xlwings as xw\n",
    "\n",
    "# Открываем файл\n",
    "wb = xw.Book('recipes.xlsx')\n",
    "\n",
    "# Получаем лист \"Рецепты\"\n",
    "sheet = wb.sheets['Рецепты']\n",
    "\n",
    "# Выделяем ячейки, содержащие заголовки столбцов, и применяем форматирование\n",
    "headers = sheet.range('A1:H1')\n",
    "headers.api.Font.Bold = True\n",
    "headers.api.HorizontalAlignment = xw.constants.HAlign.xlHAlignCenter\n",
    "\n",
    "# Сохраняем и закрываем файл\n",
    "wb.save()\n",
    "wb.close()"
   ]
  },
  {
   "cell_type": "markdown",
   "metadata": {},
   "source": [
    "6. Раскрасьте ячейки столбца `minutes` в соответствии со следующим правилом: если рецепт выполняется быстрее 5 минут, то цвет - зеленый; от 5 до 10 минут - жёлтый; и больше 10 - красный."
   ]
  },
  {
   "cell_type": "code",
   "execution_count": 17,
   "metadata": {},
   "outputs": [],
   "source": [
    "# Открываем файл\n",
    "wb = xw.Book('recipes.xlsx')\n",
    "\n",
    "# Получаем лист \"Рецепты\"\n",
    "sheet = wb.sheets['Рецепты']\n",
    "\n",
    "# Определяем цвета ячеек\n",
    "green = (50, 205, 50)\n",
    "yellow = (255, 255, 0)\n",
    "red = (255, 99, 71)\n",
    "# Применяем форматирование к столбцу \"minutes\"\n",
    "last_row = sheet.range('A1').current_region.last_cell.row\n",
    "for i in range(2, last_row + 1):\n",
    "    minutes = sheet.range('C{}'.format(i)).value\n",
    "    if minutes < 5:\n",
    "        color = green\n",
    "    elif minutes < 10:\n",
    "        color = yellow\n",
    "    else:\n",
    "        color = red\n",
    "    sheet.range('E{}'.format(i)).color = color\n",
    "\n",
    "# Сохраняем и закрываем файл\n",
    "wb.save()\n",
    "wb.close()"
   ]
  },
  {
   "cell_type": "markdown",
   "metadata": {},
   "source": [
    "7. Добавьте на лист `Рецепты`  столбец `n_reviews`, содержащий кол-во отзывов для этого рецепта. Выполните задание при помощи формул Excel."
   ]
  },
  {
   "cell_type": "code",
   "execution_count": 18,
   "metadata": {},
   "outputs": [],
   "source": [
    "# Открываем файл\n",
    "wb = xw.Book('recipes.xlsx')\n",
    "\n",
    "# Получаем лист \"Рецепты\"\n",
    "sheet = wb.sheets['Рецепты']\n",
    "\n",
    "# Добавляем столбец \"n_reviews\" на лист\n",
    "sheet.range('I1').value = 'n_reviews'\n",
    "\n",
    "# Вычисляем формулу для каждой ячейки в столбце \"n_reviews\"\n",
    "last_row = sheet.range('A1').current_region.last_cell.row\n",
    "sheet.range('I2:I{}'.format(last_row)).formula = '=COUNTIF(Отзывы!A:A, A2)'\n",
    "\n",
    "# Сохраняем и закрываем файл\n",
    "wb.save()\n",
    "wb.close()"
   ]
  },
  {
   "cell_type": "markdown",
   "metadata": {},
   "source": [
    "## Лабораторная работа 7.2"
   ]
  },
  {
   "cell_type": "markdown",
   "metadata": {},
   "source": [
    "8. Напишите функцию `validate()`, которая проверяет соответствие всех строк из листа `Отзывы` следующим правилам:\n",
    "    * Рейтинг - это число от 0 до 5 включительно\n",
    "    * Соответствующий рецепт имеется на листе `Рецепты`\n",
    "    \n",
    "В случае несоответствия этим правилам, выделите строку красным цветом"
   ]
  },
  {
   "cell_type": "code",
   "execution_count": null,
   "metadata": {},
   "outputs": [],
   "source": [
    "def validate():\n",
    "    # Открываем файл\n",
    "    wb = xw.Book('recipes.xlsx')\n",
    "    \n",
    "    # Получаем листы \"Рецепты\" и \"Отзывы\"\n",
    "    recipes_sheet = wb.sheets['Рецепты']\n",
    "    reviews_sheet = wb.sheets['Отзывы']\n",
    "    \n",
    "    # Определяем цвет для выделения строк\n",
    "    red = (255, 0, 0)\n",
    "    \n",
    "    # Получаем диапазон ячеек на листе \"Отзывы\"\n",
    "    last_row = reviews_sheet.range('A1').current_region.last_cell.row\n",
    "    range_str = 'A2:C{}'.format(last_row)\n",
    "    range = reviews_sheet.range(range_str)\n",
    "    \n",
    "    # Проверяем соответствие правилам для каждой строки в диапазоне\n",
    "    for row in range.rows:\n",
    "        # Проверяем правило для рейтинга\n",
    "        rating = row[1].value\n",
    "        if rating is None or not (0 <= rating <= 5):\n",
    "            row.color = red\n",
    "            continue\n",
    "        \n",
    "        # Проверяем правило для соответствия рецепту\n",
    "        recipe_id = row[2].value\n",
    "        if recipe_id is None or recipes_sheet.range('A:A').find(recipe_id) is None:\n",
    "            row.color = red\n",
    "            continue\n",
    "    \n",
    "    # Сохраняем и закрываем файл\n",
    "    wb.save()\n",
    "    wb.close()\n",
    "\n",
    "validate()"
   ]
  },
  {
   "cell_type": "markdown",
   "metadata": {},
   "source": [
    "9. В файле `recipes_model.csv` находится модель данных предметной области \"рецепты\". При помощи пакета `csv` считайте эти данные. При помощи пакета `xlwings` запишите данные на лист `Модель` книги `recipes_model.xlsx`, начиная с ячейки `A2`, не используя циклы. Сделайте скриншот текущего состояния листа и прикрепите в ячейку ноутбука. "
   ]
  },
  {
   "cell_type": "code",
   "execution_count": 14,
   "metadata": {},
   "outputs": [],
   "source": [
    "# Импортируем необходимые библиотеки\n",
    "import csv\n",
    "\n",
    "# Открываем файл csv и считываем данные\n",
    "with open('data/recipes_model.csv', encoding='utf-8') as f:\n",
    "    reader = csv.reader(f, delimiter='\\t')\n",
    "    data = list(reader)\n",
    "\n",
    "# Создаем новую книгу и получаем лист \"Модель\"\n",
    "wb = xw.Book()\n",
    "wb.sheets[0].name = 'Модель'\n",
    "sheet = wb.sheets['Модель']\n",
    "\n",
    "# Записываем данные на лист\n",
    "sheet.range('A1').value = data\n",
    "\n",
    "# Сохраняем книгу и закрываем\n",
    "wb.save('recipes_model.xlsx')\n",
    "wb.close()\n"
   ]
  },
  {
   "cell_type": "markdown",
   "metadata": {},
   "source": [
    "![screen](1.JPG)"
   ]
  },
  {
   "cell_type": "markdown",
   "metadata": {},
   "source": [
    "10. При помощи пакета `xlwings` добавьте в столбец J формулу для описания столбца на языке SQL. Формула должна реализовывать следующую логику:\n",
    "\n",
    "    1\\. в начале строки идут значения из столбцов В и C (значение столбца С приведено к верхнему регистру), разделенные пробелом\n",
    "    \n",
    "    2\\. далее идут слова на основе столбца \"Ключ\"\n",
    "        2.1 если в столбце \"Ключ\" указано значение \"PK\", то дальше через пробел идет ключевое слово \"PRIMARY KEY\"\n",
    "        2.2 если в столбце \"Ключ\" указано значение \"FK\", то дальше через пробел идет ключевое слово \"REFERENCES\", затем значения столбцов H и I в формате \"название_таблицы(название_столбца)\"\n",
    "        \n",
    "    3\\. если в столбце \"Обязательно к заполнению\" указано значение \"Y\" и в столбце \"Ключ\" указано не \"PK\", то дальше через пробел идет ключевое слово \"NOT NULL\".\n",
    "\n",
    "Заполните этой формулой необходимое количество строк, используя \"протягивание\". Количество строк для протягивания определите на основе данных.\n",
    "\n",
    "Сделайте скриншот текущего состояния листа и прикрепите в ячейку ноутбука."
   ]
  },
  {
   "cell_type": "code",
   "execution_count": null,
   "metadata": {},
   "outputs": [],
   "source": [
    "# Импортируем необходимые библиотеки\n",
    "import xlwings as xw\n",
    "\n",
    "# Открываем файл и получаем лист \"Модель\"\n",
    "wb = xw.Book('recipes_model.xlsx')\n",
    "sheet = wb.sheets['Модель']\n",
    "\n",
    "# Получаем количество строк в столбце \"ID\"\n",
    "last_row = sheet.range('B:B').end('down').row\n",
    "num_rows = last_row - 1\n",
    "\n",
    "# Создаем формулу для столбца J\n",
    "# formula = '=B{row} & \" \" & ПРОПИСН(C{row}) & \" \" & ЕСЛИ(G{row}=\"PK\";\"PRIMARY KEY\";ЕСЛИ(G{row}=\"FK\";\"REFERENCES \" & I{row} & \"(\" & H{row} & \")\";\"\")) & ЕСЛИ(И(G{row}<>\"PK\";D{row}=\"Y\");\"NOT NULL\";\"\")'.format(row=2)\n",
    "print(formula)\n",
    "formula = '=B{row} & \" \" & UPPER(C{row}) & \" \" & IF(G{row}=\"PK\", \"PRIMARY KEY\", IF(G{row}=\"FK\", \"REFERENCES \" & I{row} & \"(\" & H{row} & \")\", \"\")) & IF(G{row}<>\"PK\" AND D{row}=\"Y\", \"NOT NULL\", \"\")'.format(row=2)\n",
    "# Заполняем формулой столбец J\n",
    "# sheet.range('J2').formula = [1, formula.format(row=2)]\n",
    "sheet.range('J2').formula = formula\n",
    "sheet.range('J2').api.AutoFill(sheet.range(f'J2:J{num_rows+1}').api, 0)\n",
    "\n",
    "# Сохраняем и закрываем файл\n",
    "wb.save()\n",
    "wb.close()"
   ]
  },
  {
   "cell_type": "markdown",
   "metadata": {},
   "source": [
    "11. При помощи пакета `xlwings` измените стилизацию листа `Модель`.\n",
    "* для заголовков добавьте заливку цвета `00ccff`\n",
    "* примените автоподбор ширины столбца;\n",
    "* сделайте шрифт заголовков полужирным;\n",
    "* добавьте таблице автофильтр.\n",
    "\n",
    "Сделайте скриншот текущего состояния листа и прикрепите в ячейку ноутбука."
   ]
  },
  {
   "cell_type": "code",
   "execution_count": 19,
   "metadata": {},
   "outputs": [],
   "source": [
    "# Импортируем необходимые библиотеки\n",
    "import xlwings as xw\n",
    "\n",
    "# Открываем книгу\n",
    "wb = xw.Book('recipes_model.xlsx')\n",
    "\n",
    "# Получаем лист \"Модель\"\n",
    "sheet = wb.sheets['Модель']\n",
    "\n",
    "# Задаем стили для заголовков\n",
    "header_format = sheet.range('A1').expand('right')\n",
    "header_format.Color = 0x00ccff\n",
    "header_format.api.Font.Bold = True\n",
    "\n",
    "# Применяем автоподбор ширины столбца\n",
    "sheet.api.Cells.EntireColumn.AutoFit()\n",
    "\n",
    "# Добавляем таблице автофильтр\n",
    "sheet.range('A1').expand('right').api.AutoFilter(Field:=1)\n",
    "\n",
    "# Сохраняем и закрываем книгу\n",
    "wb.save()\n",
    "wb.close()"
   ]
  },
  {
   "cell_type": "markdown",
   "metadata": {},
   "source": [
    "![screen](2.JPG)"
   ]
  },
  {
   "cell_type": "markdown",
   "metadata": {},
   "source": [
    "12. Посчитайте количество атрибутов для каждой из сущностей. Создайте лист `Статистика` и запишите в него результат группировки, начиная с ячейки \"А1\". Визуализируйте полученный результат при помощи столбчатой диаграммы. Сохраните полученную визуализацию на лист `Статистика`, начиная с ячейки \"E2\".  Сделайте скриншот листа `Статистика` и прикрепите в ячейку ноутбука.\n",
    "\n",
    "* Вы можете воспользоваться методами для визуализации, которые поставляются вместе с объектами `pandas` (см. https://pandas.pydata.org/docs/reference/api/pandas.DataFrame.plot) "
   ]
  },
  {
   "cell_type": "code",
   "execution_count": 20,
   "metadata": {},
   "outputs": [],
   "source": [
    "# Импортируем необходимые библиотеки\n",
    "import pandas as pd\n",
    "import xlwings as xw\n",
    "\n",
    "# Считываем данные из файла\n",
    "df = pd.read_csv('data/recipes_model.csv', delimiter='\\t')\n",
    "\n",
    "# Группируем данные и считаем количество атрибутов для каждой сущности\n",
    "stats = df.groupby('recipe').size()\n",
    "\n",
    "# Создаем новую книгу и получаем лист \"Статистика\"\n",
    "wb = xw.Book()\n",
    "wb.sheets[0].name = 'Статистика'\n",
    "sheet = wb.sheets['Статистика']\n",
    "\n",
    "# Записываем результат группировки на лист\n",
    "sheet.range('A1').value = stats.to_frame()\n",
    "\n",
    "# Создаем столбчатую диаграмму\n",
    "chart = sheet.charts.add()\n",
    "chart.set_source_data(sheet.range('A1').expand())\n",
    "chart.chart_type = 'column_clustered'\n",
    "chart.name = 'Количество атрибутов'\n",
    "\n",
    "# Переносим диаграмму на лист \"Статистика\"\n",
    "chart.top = sheet.range('E2').top\n",
    "chart.left = sheet.range('E2').left\n",
    "\n",
    "# Сохраняем книгу и закрываем\n",
    "wb.save('recipes_stats.xlsx')\n",
    "wb.close()"
   ]
  },
  {
   "cell_type": "markdown",
   "metadata": {},
   "source": [
    "![screen](3.JPG)"
   ]
  }
 ],
 "metadata": {
  "kernelspec": {
   "display_name": "Python 3.10.1 64-bit",
   "language": "python",
   "name": "python3"
  },
  "language_info": {
   "codemirror_mode": {
    "name": "ipython",
    "version": 3
   },
   "file_extension": ".py",
   "mimetype": "text/x-python",
   "name": "python",
   "nbconvert_exporter": "python",
   "pygments_lexer": "ipython3",
   "version": "3.10.1"
  },
  "vscode": {
   "interpreter": {
    "hash": "bbc3c3d932324566a9bf4b4a52ddf64063695fc3adbf25b3fda92572428493bb"
   }
  }
 },
 "nbformat": 4,
 "nbformat_minor": 4
}
